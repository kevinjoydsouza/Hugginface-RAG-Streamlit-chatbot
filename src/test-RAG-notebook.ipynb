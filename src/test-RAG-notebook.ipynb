{
 "cells": [
  {
   "cell_type": "markdown",
   "id": "3a4fc7ed-f875-4e3c-95a0-e8691a859a9c",
   "metadata": {},
   "source": [
    "# RAG-Based Solution Implementation\n",
    "\n",
    "## Author\n",
    "**Kevin Joy D'Souza**\n",
    "\n",
    "## Purpose\n",
    "This notebook demonstrates the implementation of a Retrieval-Augmented Generation (RAG) based solution using a Hugging Face model. The purpose is to showcase how RAG can be leveraged for enhanced performance in natural language understanding and generation tasks.\n",
    "\n",
    "## Overview\n",
    "The solution integrates Hugging Face's model capabilities with RAG to provide a robust framework for handling complex queries and generating accurate responses based on retrieved information.\n"
   ]
  },
  {
   "cell_type": "markdown",
   "id": "e61d1db3-57b4-40e3-9f40-fea692430517",
   "metadata": {},
   "source": [
    "## import required libraries"
   ]
  },
  {
   "cell_type": "code",
   "execution_count": 1,
   "id": "65d6be3e-0ca8-43e4-b575-7e3cb6e30fc3",
   "metadata": {
    "scrolled": true
   },
   "outputs": [
    {
     "name": "stderr",
     "output_type": "stream",
     "text": [
      "/home/kevin/PycharmProjects/RAG-Q&A-Q/.venv/lib/python3.10/site-packages/pydantic/_internal/_fields.py:132: UserWarning: Field \"model_name\" in HuggingFaceInferenceAPIEmbeddings has conflict with protected namespace \"model_\".\n",
      "\n",
      "You may be able to resolve this warning by setting `model_config['protected_namespaces'] = ()`.\n",
      "  warnings.warn(\n"
     ]
    }
   ],
   "source": [
    "\n",
    "from langchain.text_splitter import RecursiveCharacterTextSplitter\n",
    "from langchain_community.vectorstores import Chroma\n",
    "from langchain_core.output_parsers import StrOutputParser\n",
    "from langchain_core.runnables import RunnableParallel, RunnablePassthrough\n",
    "from langchain_community.embeddings import HuggingFaceInferenceAPIEmbeddings\n",
    "from langchain_community.llms import HuggingFaceEndpoint\n",
    "from langchain_community.document_loaders import PyPDFLoader\n",
    "from langchain_core.prompts import PromptTemplate\n",
    "\n",
    "from keys import INFERENCE_API_KEY  # Your Hugging Face API key should be stored here\n",
    "from prompt import TEMPLATE  # Your custom prompt template\n"
   ]
  },
  {
   "cell_type": "markdown",
   "id": "1e0ea882-1ad1-4150-b0af-d391fc210011",
   "metadata": {},
   "source": [
    "# Register and get Huggingface Key for Inference"
   ]
  },
  {
   "cell_type": "code",
   "execution_count": 2,
   "id": "eb25f470-0955-4242-9e5a-4017e16c6843",
   "metadata": {},
   "outputs": [],
   "source": [
    "INFERENCE_API_KEY=\"insert your huggingface api key\""
   ]
  },
  {
   "cell_type": "markdown",
   "id": "d4f5f483-9403-4937-bb11-874f096b1f3b",
   "metadata": {},
   "source": [
    "# function to Load and Preprocess PDF Document"
   ]
  },
  {
   "cell_type": "code",
   "execution_count": 3,
   "id": "bf08c50c-aeb2-4ea5-b643-d85ee4135738",
   "metadata": {},
   "outputs": [
    {
     "name": "stdout",
     "output_type": "stream",
     "text": [
      "Document length: 30473 words\n"
     ]
    },
    {
     "data": {
      "text/plain": [
       "[Document(metadata={'source': '/home/kevin/PycharmProjects/RAG-Q&A-Q/QnA-PDF-RAG-LangChain/sample-biology-pdf/Concepts of Biology-chap1-chap2.pdf', 'page': 0}, page_content='INTR ODUCT IONCHAP TER 1\\nIntroduction t o Biolog y\\n1.1Themes and Conc epts of Biolog y\\n1.2The P rocess of Scienc e\\nViewed fr om spac e, Ear th (Figure 1.1 ) offers f ew clues about the div ersity o f life\\nforms that r eside ther e. The firs t forms o f life on Ear th ar e thought t o ha ve been micr oorganisms\\nthat e xisted for bil lions o f years bef ore plants and animals appear ed. The mammals , birds, and\\nflowers so familiar t o us ar e all relativ ely recent, originating 130 t o 200 mil lion y ears ag o. Humans\\nhave inhabit ed this planet f or onl y the las t 2.5 mil lion y ears , and onl y in the las t 300,000 y ears\\nhave humans s tarted looking lik e we do t oday.\\n1.1Themes and C oncepts of Biology\\nLEARNING OB JECTIVE S\\nBy the end o f this section, y ou wil l be able t o:\\n•Identif y and describe the pr oper ties o f life\\n•Describe the le vels o f organization among living things\\n•List examples o f diff erent sub disciplines in biolog y\\nBiolog yis the scienc e that s tudies lif e. What e xactl y is lif e? This ma y sound lik e a sil ly ques tion\\nwith an ob vious ans wer, but it is not eas y to define lif e. For example , a br anch o f biolog y cal led\\nvirolog y studies viruses , which e xhibit some o f the char acteristics o f living entities but lack others .\\nIt turns out that al though viruses can at tack living or ganisms , cause diseases , and e ven reproduc e,FIGURE 1.1This NASA imag e is a c omposit e of several sat ellite-based vie ws of Ear th. T o mak e the whole -Ear th\\nimag e, NASA scientis ts combine obser vations o f diff erent par ts of the planet. (cr edit: modification o f work b y NASA)\\nCHAP TER OUTLINE'),\n",
       " Document(metadata={'source': '/home/kevin/PycharmProjects/RAG-Q&A-Q/QnA-PDF-RAG-LangChain/sample-biology-pdf/Concepts of Biology-chap1-chap2.pdf', 'page': 1}, page_content='they do not meet the crit eria that biologis ts use t o define lif e.\\nFrom its earlies t beginnings , biolog y has wr estled with f our ques tions: What ar e the shar ed\\nproper ties that mak e something “ alive”? Ho w do those v arious living things function? When fac ed\\nwith the r emark able div ersity o f life, how do w e organiz e the diff erent kinds o f organisms so that\\nwe can bet ter unders tand them? And, final ly—what biologis ts ul timat ely seek t o unders tand—ho w\\ndid this div ersity arise and ho w is it c ontinuing? As ne w or ganisms ar e disc overed e very da y,\\nbiologis ts continue t o seek ans wers t o these and other ques tions .\\nProper ties o f Life\\nAll groups o f living or ganisms shar e se veral key char acteristics or functions: or der, sensitivity or\\nresponse t o stimuli, r eproduction, adap tation, gr owth and de velopment, r egulation/homeos tasis ,\\nener gy processing , and e volution. When vie wed together , these eight char acteristics ser ve to\\ndefine lif e.\\nOrder\\nOrganisms ar e highl y organiz ed s tructur es that c onsis t of one or mor e cells. Even v ery simple ,\\nsingle -celled or ganisms ar e remark ably comple x. Inside each c ell, atoms mak e up molecules .\\nThese in turn mak e up c ell components or or ganel les. Mul ticellular or ganisms , which ma y consis t\\nof mil lions o f individual c ells, have an adv antag e over single -celled or ganisms in that their c ells\\ncan be specializ ed to per form specific functions , and e ven sacrific ed in c ertain situations f or the\\ngood o f the or ganism as a whole . Ho w these specializ ed c ells come t ogether t o form or gans such\\nas the hear t, lung , or skin in or ganisms lik e the t oad sho wn in Figure 1.2 will be discus sed lat er.\\nFIGURE 1.2A toad r epresents a highl y organiz ed s tructur e consis ting o f cells, tissues , organs, and or gan s ystems .\\n(credit: \"Iv engo(RUS)\"/ Wikimedia Commons)\\nSensitivit y or R esponse t o Stimuli\\nOrganisms r espond t o div erse s timuli. F or example , plants can bend t oward a sour ce of light or\\nrespond t o touch ( Figure 1.3 ). Ev en tin y bact eria can mo ve toward or a way from chemicals (a\\nprocess cal led chemotaxis) or light (phot otaxis). Mo vement t oward a s timulus is c onsider ed a\\npositiv e response , while mo vement a way from a s timulus is c onsider ed a neg ative response .6 1 • Intr oduc tion t o Biology\\nAccess f or free at opens tax.org')]"
      ]
     },
     "execution_count": 3,
     "metadata": {},
     "output_type": "execute_result"
    }
   ],
   "source": [
    "def load_pdf_text(file):\n",
    "    loader = PyPDFLoader(file)\n",
    "    docs = loader.load()\n",
    "\n",
    "    doc_length = sum(len(doc.page_content.split()) for doc in docs)    \n",
    "    return docs, doc_length\n",
    "file=\"/home/kevin/PycharmProjects/RAG-Q&A-Q/QnA-PDF-RAG-LangChain/sample-biology-pdf/Concepts of Biology-chap1-chap2.pdf\"\n",
    "docs, doc_length = load_pdf_text(file)\n",
    "print(f\"Document length: {doc_length} words\")\n",
    "# Display first two documents to verify\n",
    "docs[:2] "
   ]
  },
  {
   "cell_type": "markdown",
   "id": "481656bf-973c-4f1e-a14d-d5a9174bd5b7",
   "metadata": {},
   "source": [
    "# Determine Optimal Chunk Size"
   ]
  },
  {
   "cell_type": "code",
   "execution_count": 4,
   "id": "d444f2ba-116e-480d-ae56-2c6125a68992",
   "metadata": {},
   "outputs": [
    {
     "name": "stdout",
     "output_type": "stream",
     "text": [
      "Chunk Size: 2000, Chunk Overlap: 500\n"
     ]
    }
   ],
   "source": [
    "# Depending on the length of the document, determine the chunk size for splitting.\n",
    "def determine_optimal_chunk_size(doc_length):\n",
    "    if (doc_length < 5000):  \n",
    "        return 500, 100  \n",
    "    elif (doc_length < 20000):  \n",
    "        return 1000, 250  \n",
    "    else:  \n",
    "        return 2000, 500\n",
    "\n",
    "chunk_size, chunk_overlap = determine_optimal_chunk_size(doc_length)\n",
    "print(f\"Chunk Size: {chunk_size}, Chunk Overlap: {chunk_overlap}\")"
   ]
  },
  {
   "cell_type": "markdown",
   "id": "7c795097-9df3-4e42-afaa-13eb0dca9cb6",
   "metadata": {},
   "source": [
    "# Chunk and Store Documents in Vectorstore"
   ]
  },
  {
   "cell_type": "code",
   "execution_count": 5,
   "id": "6a6e23bc-6393-420f-ba74-2c8123904778",
   "metadata": {},
   "outputs": [
    {
     "name": "stdout",
     "output_type": "stream",
     "text": [
      "Vectorstore created and documents stored.\n"
     ]
    }
   ],
   "source": [
    "# Split the documents into chunks and store them in a Chroma vectorstore using the Hugging Face embeddings.\n",
    "def chunk_and_store_in_vector_store(docs, chunk_size, chunk_overlap):\n",
    "    embeddings = HuggingFaceInferenceAPIEmbeddings(\n",
    "        api_key=INFERENCE_API_KEY, \n",
    "        model_name=\"sentence-transformers/all-MiniLM-l6-v2\"\n",
    "    )\n",
    "\n",
    "    text_splitter = RecursiveCharacterTextSplitter(chunk_size=chunk_size, chunk_overlap=chunk_overlap)\n",
    "    splits = text_splitter.split_documents(docs)\n",
    "    vectorstore = Chroma.from_documents(documents=splits, embedding=embeddings)\n",
    "    return vectorstore\n",
    "\n",
    "vectorstore = chunk_and_store_in_vector_store(docs, chunk_size, chunk_overlap)\n",
    "print(\"Vectorstore created and documents stored.\")"
   ]
  },
  {
   "cell_type": "markdown",
   "id": "df23160e-d8e5-47c7-b972-a95a8c9631ec",
   "metadata": {},
   "source": [
    "# Utility functions to process user inputs and return query response"
   ]
  },
  {
   "cell_type": "code",
   "execution_count": 6,
   "id": "68715e4a-9026-4b3b-9b22-4df9224ed8fc",
   "metadata": {},
   "outputs": [],
   "source": [
    "from langchain_core.runnables import RunnableParallel, RunnablePassthrough\n",
    "from langchain_core.prompts import PromptTemplate\n",
    "from langchain_core.output_parsers import StrOutputParser\n",
    "from langchain_community.llms import HuggingFaceEndpoint\n",
    "\n",
    "TEMPLATE = \"\"\"Use the following pieces of context to answer the question at the end.\n",
    "If you don't know the answer, just say that you don't know, don't try to make up an answer.\n",
    "Use three sentences maximum and keep the answer as concise as possible.\n",
    "\n",
    "{context}\n",
    "\n",
    "Question: {question}\n",
    "\n",
    "Answer:\"\"\"\n",
    "\n",
    "def format_docs(docs):\n",
    "    return \"\\n\\n\".join(doc.page_content for doc in docs)\n",
    "\n",
    "def substring_after(s, delim):\n",
    "    return s.partition(delim)[2]\n",
    "\n",
    "def process_user_input(user_query, vectorstore):\n",
    "    retriever = vectorstore.as_retriever(search_type=\"similarity\", search_kwargs={\"k\": 6})\n",
    "    print(\"Retriever set up.\")\n",
    "\n",
    "    llm = HuggingFaceEndpoint(\n",
    "        huggingfacehub_api_token=INFERENCE_API_KEY,\n",
    "        repo_id=\"mistralai/Mixtral-8x7B-Instruct-v0.1\",\n",
    "        task=\"text-generation\",\n",
    "        max_new_tokens=512,\n",
    "        top_k=50,\n",
    "        top_p=0.8,\n",
    "        temperature=0.1,\n",
    "        repetition_penalty=1\n",
    "    )\n",
    "    print(\"LLM set up successfully.\")\n",
    "\n",
    "    custom_rag_prompt = PromptTemplate.from_template(TEMPLATE)\n",
    "\n",
    "    rag_chain_from_docs = (\n",
    "        RunnablePassthrough.assign(context=(lambda x: format_docs(x[\"context\"])))\n",
    "        | custom_rag_prompt\n",
    "        | llm\n",
    "        | StrOutputParser()\n",
    "    )\n",
    "\n",
    "    rag_chain_with_source = RunnableParallel(\n",
    "        {\"context\": retriever, \"question\": RunnablePassthrough()}\n",
    "    ).assign(answer=rag_chain_from_docs)\n",
    "\n",
    "    llm_response = rag_chain_with_source.invoke(user_query)\n",
    "    print(\"LLM Response: \", llm_response)\n",
    "\n",
    "    if 'answer' not in llm_response:\n",
    "        print(\"No 'answer' in LLM response.\")\n",
    "        return \"LLM response did not return an answer.\"\n",
    "\n",
    "    final_output = substring_after(llm_response['answer'], \"Helpful Answer:\")\n",
    "    print(f\"Final extracted output is seen in answer: {final_output}\")\n",
    "\n",
    "    return final_output.strip()\n",
    "\n",
    "\n"
   ]
  },
  {
   "cell_type": "markdown",
   "id": "6896c99f-14db-4e62-8eb6-0be2713be743",
   "metadata": {},
   "source": [
    "# Q & A"
   ]
  },
  {
   "cell_type": "code",
   "execution_count": 8,
   "id": "2054750c-ca22-4de7-9a5e-bc24c941b9af",
   "metadata": {},
   "outputs": [
    {
     "name": "stdout",
     "output_type": "stream",
     "text": [
      "Retriever set up.\n",
      "The token has not been saved to the git credentials helper. Pass `add_to_git_credential=True` in this function directly or `--add-to-git-credential` if using via `huggingface-cli` if you want to set the git credential as well.\n",
      "Token is valid (permission: fineGrained).\n",
      "Your token has been saved to /home/kevin/.cache/huggingface/token\n",
      "Login successful\n",
      "LLM set up successfully.\n",
      "LLM Response:  {'context': [Document(metadata={'page': 19, 'source': '/home/kevin/PycharmProjects/RAG-Q&A-Q/QnA-PDF-RAG-LangChain/sample-biology-pdf/Concepts of Biology-chap1-chap2.pdf'}, page_content='Key Terms\\napplied scienc ea form o f scienc e that sol ves real-\\nworld pr oblems\\natom a basic unit o f mat ter that cannot be br oken\\ndown b y normal chemical r eactions\\nbasic scienc escienc e that seek s to expand\\nknowledg e regardles s of the shor t-term application\\nof that kno wledg e\\nbiolog ythe s tudy o f life\\nbiospher ea collection o f all ecosystems on Ear th\\ncellthe smal lest fundamental unit o f structur e and\\nfunction in living things\\ncommunity a set o f populations inhabiting a\\nparticular ar ea\\ncontr ola par t of an e xperiment that does not chang e\\nduring the e xperiment\\ndeductiv e reasoning a form o f logical thinking that\\nuses a g ener al statement t o predict specific r esul ts\\ndescrip tive scienc ea form o f scienc e that aims t o\\nobser ve, explor e, and find things out\\necosystem all living things in a par ticular ar ea\\ntogether with the abiotic, nonliving par ts of that\\nenvironment\\neukar yotean or ganism with c ells that ha ve nuclei\\nand membr ane-bound or ganel les\\nevolution the pr ocess of gradual chang e in a\\npopulation that can also lead t o ne w species arising\\nfrom older species\\nfalsifiable able t o be dispr oven b y experimental\\nresul ts\\nhomeos tasis the ability o f an or ganism t o maintain\\nconstant int ernal c onditions\\nhypothesis a sug gested e xplanation f or an e vent,\\nwhich can be t ested\\nhypothesis-based scienc ea form o f scienc e that\\nbegins with a specific e xplanation that is then t ested\\ninductiv e reasoning a form o f logical thinking that\\nuses r elated obser vations t o arriv e at a g ener al\\nconclusion\\nlife scienc ea field o f scienc e, such as biolog y, that\\nstudies living things\\nmacr omolecule a lar ge molecule typical ly formed b ythe joining o f smal ler molecules\\nmolecule a chemical s tructur e consis ting o f at leas t\\ntwo atoms held t ogether b y a chemical bond\\nnatural scienc ea field o f scienc e that s tudies the\\nphysical w orld, its phenomena , and pr ocesses\\norgan a structur e formed o f tissues oper ating'), Document(metadata={'page': 22, 'source': '/home/kevin/PycharmProjects/RAG-Q&A-Q/QnA-PDF-RAG-LangChain/sample-biology-pdf/Concepts of Biology-chap1-chap2.pdf'}, page_content='INTR ODUCT IONCHAP TER 2\\nChemis try of Life\\n2.1The Building Block s of Molecules\\n2.2Water\\n2.3Biological Molecules\\nThe elements carbon, h ydrogen, nitr ogen, o xygen, sulfur , and phosphorus ar e\\nthe k ey building block s of the chemicals f ound in living things . The y form the carboh ydrates,\\nnucleic acids , proteins , and lipids (al l of which wil l be defined lat er in this chap ter) that ar e the\\nfundamental molecular c omponents o f all organisms . In this chap ter, we wil l discus s these\\nimpor tant building block s and learn ho w the unique pr oper ties o f the at oms o f diff erent elements\\naffect their int eractions with other at oms t o form the molecules o f life.\\nFood pr ovides an or ganism with nutrients —the mat ter it needs t o sur vive. Man y of these critical\\nnutrients c ome in the f orm o f biological macr omolecules , or lar ge molecules nec essary for lif e.\\nThese macr omolecules ar e buil t from diff erent c ombinations o f smal ler or ganic molecules . What\\nspecific types o f biological macr omolecules do living things r equir e? Ho w ar e these molecules\\nformed? What functions do the y ser ve? In this chap ter, we wil l explor e these ques tions .FIGURE 2.1Foods such as br ead, fruit, and cheese ar e rich sour ces o f biological macr omolecules . (credit:\\nmodification o f work b y Bengt Nyman)\\nCHAP TER OUTLINE'), Document(metadata={'page': 23, 'source': '/home/kevin/PycharmProjects/RAG-Q&A-Q/QnA-PDF-RAG-LangChain/sample-biology-pdf/Concepts of Biology-chap1-chap2.pdf'}, page_content='2.1The Building Block s of Molecules\\nLEARNING OB JECTIVE S\\nBy the end o f this section, y ou wil l be able t o:\\n•Describe mat ter and elements\\n•Describe the int errelationship betw een pr otons, neutr ons, and electr ons, and the w ays in\\nwhich electr ons can be donat ed or shar ed betw een at oms\\nAt its mos t fundamental le vel, life is made up o f mat ter.Matteroccupies spac e and has mas s. All\\nmatter is c omposed o felements , subs tanc es that cannot be br oken do wn or tr ansformed\\nchemical ly int o other subs tanc es. Each element is made o f atoms , each with a c onstant number o f\\nprotons and unique pr oper ties. A total o f 118 elements ha ve been defined; ho wever, onl y 92 oc cur\\nnatur ally, and f ewer than 30 ar e found in living c ells. The r emaining 26 elements ar e uns table and,\\nther efore, do not e xist for very long or ar e theor etical and ha ve yet to be det ected.\\nEach element is designat ed b y its chemical s ymbol (such as H, N, O , C, and Na), and pos sesses\\nunique pr oper ties. These unique pr oper ties al low elements t o combine and t o bond with each\\nother in specific w ays.\\nAtoms\\nAn at om is the smal lest component o f an element that r etains al l of the chemical pr oper ties o f\\nthat element. F or example , one h ydrogen at om has al l of the pr oper ties o f the element h ydrogen,\\nsuch as it e xists as a g as at r oom t emper atur e, and it bonds with o xygen to create a w ater\\nmolecule . Hydrogen at oms cannot be br oken do wn int o an ything smal ler while s till retaining the\\nproper ties o f hydrogen. If a h ydrogen at om w ere broken do wn int o subat omic par ticles , it w ould\\nno long er ha ve the pr oper ties o f hydrogen.\\nAt the mos t basic le vel, all organisms ar e made o f a c ombination o f elements . The y contain at oms\\nthat c ombine t ogether t o form molecules . In mul ticellular or ganisms , such as animals , molecules\\ncan int eract t o form c ells that c ombine t o form tis sues , which mak e up or gans. These'), Document(metadata={'page': 0, 'source': '/home/kevin/PycharmProjects/RAG-Q&A-Q/QnA-PDF-RAG-LangChain/sample-biology-pdf/Concepts of Biology-chap1-chap2.pdf'}, page_content='INTR ODUCT IONCHAP TER 1\\nIntroduction t o Biolog y\\n1.1Themes and Conc epts of Biolog y\\n1.2The P rocess of Scienc e\\nViewed fr om spac e, Ear th (Figure 1.1 ) offers f ew clues about the div ersity o f life\\nforms that r eside ther e. The firs t forms o f life on Ear th ar e thought t o ha ve been micr oorganisms\\nthat e xisted for bil lions o f years bef ore plants and animals appear ed. The mammals , birds, and\\nflowers so familiar t o us ar e all relativ ely recent, originating 130 t o 200 mil lion y ears ag o. Humans\\nhave inhabit ed this planet f or onl y the las t 2.5 mil lion y ears , and onl y in the las t 300,000 y ears\\nhave humans s tarted looking lik e we do t oday.\\n1.1Themes and C oncepts of Biology\\nLEARNING OB JECTIVE S\\nBy the end o f this section, y ou wil l be able t o:\\n•Identif y and describe the pr oper ties o f life\\n•Describe the le vels o f organization among living things\\n•List examples o f diff erent sub disciplines in biolog y\\nBiolog yis the scienc e that s tudies lif e. What e xactl y is lif e? This ma y sound lik e a sil ly ques tion\\nwith an ob vious ans wer, but it is not eas y to define lif e. For example , a br anch o f biolog y cal led\\nvirolog y studies viruses , which e xhibit some o f the char acteristics o f living entities but lack others .\\nIt turns out that al though viruses can at tack living or ganisms , cause diseases , and e ven reproduc e,FIGURE 1.1This NASA imag e is a c omposit e of several sat ellite-based vie ws of Ear th. T o mak e the whole -Ear th\\nimag e, NASA scientis ts combine obser vations o f diff erent par ts of the planet. (cr edit: modification o f work b y NASA)\\nCHAP TER OUTLINE'), Document(metadata={'page': 30, 'source': '/home/kevin/PycharmProjects/RAG-Q&A-Q/QnA-PDF-RAG-LangChain/sample-biology-pdf/Concepts of Biology-chap1-chap2.pdf'}, page_content='ice) (Figure 2.9 a). When fr ozen, ic e is les s dense than liquid w ater (the molecules ar e far ther apar t). This means that\\nice floats on the sur face of a body o f water (Figure 2.9 b). In lak es, ponds , and oc eans , ice wil l form on the sur face of\\nthe w ater, creating an insulating barrier t o protect the animal and plant lif e beneath fr om fr eezing in the w ater. If this\\ndid not happen, plants and animals living in w ater w ould fr eeze in a block o f ice and c ould not mo ve freely, making\\nlife in c old t emper atur es difficul t or impos sible .2.2 • W ater 35'), Document(metadata={'page': 19, 'source': '/home/kevin/PycharmProjects/RAG-Q&A-Q/QnA-PDF-RAG-LangChain/sample-biology-pdf/Concepts of Biology-chap1-chap2.pdf'}, page_content='mathematical f ormula , for the beha vior o f some\\naspect o f natur e under c ertain specific c onditions\\nscientific method a method o f resear ch with defined\\nsteps that include e xperiments and car eful\\nobser vation\\nscientific theor ya thor oughl y tested and c onfirmed\\nexplanation f or obser vations or phenomena\\ntissue a group o f similar c ells carr ying out the same\\nfunction\\nvariable a par t of an e xperiment that can v ary or\\nchang e\\nChap ter Summar y\\n1.1Themes and C oncepts of Biology\\nBiolog y is the scienc e of life. All living or ganisms shar e\\nseveral key proper ties such as or der, sensitivity or\\nresponse t o stimuli, r eproduction, adap tation, gr owth\\nand de velopment, r egulation, homeos tasis , and ener gy\\nprocessing . Living things ar e highl y organiz ed following\\na hier archy that includes at oms , molecules , organel les,\\ncells, tissues , organs, and or gan s ystems . Organisms , inturn, ar e grouped as populations , communities ,\\necosystems , and the biospher e. Evolution is the sour ce\\nof the tr emendous biological div ersity on Ear th today. A\\ndiagr am cal led a ph ylog enetic tr ee can be used t o\\nshow evolutionar y relationships among or ganisms .\\nBiolog y is v ery broad and includes man y branches and\\nsub disciplines . Examples include molecular biolog y,\\nmicr obiolog y, neur obiolog y, zoolog y, and botan y,\\namong others .24 1 • K ey Terms\\nAccess f or free at opens tax.org')], 'question': 'What is the smallest unit of life?', 'answer': ' The smallest unit of life is a cell.'}\n",
      "Final extracted output is seen in answer: \n"
     ]
    }
   ],
   "source": [
    "user_input = \"What is the smallest unit of life?\"  # Example input\n",
    "response = process_user_input(user_input, vectorstore)\n",
    "#print(\"Response: \", response)\n"
   ]
  },
  {
   "cell_type": "code",
   "execution_count": null,
   "id": "c8152f78-8c2a-4a9e-8de6-033147c06b41",
   "metadata": {},
   "outputs": [],
   "source": []
  }
 ],
 "metadata": {
  "kernelspec": {
   "display_name": "Python 3 (ipykernel)",
   "language": "python",
   "name": "python3"
  },
  "language_info": {
   "codemirror_mode": {
    "name": "ipython",
    "version": 3
   },
   "file_extension": ".py",
   "mimetype": "text/x-python",
   "name": "python",
   "nbconvert_exporter": "python",
   "pygments_lexer": "ipython3",
   "version": "3.10.12"
  }
 },
 "nbformat": 4,
 "nbformat_minor": 5
}
